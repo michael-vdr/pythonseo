{
 "cells": [
  {
   "cell_type": "markdown",
   "metadata": {
    "scrolled": true
   },
   "source": [
    "## List of error pages in Google"
   ]
  },
  {
   "cell_type": "code",
   "execution_count": null,
   "metadata": {},
   "outputs": [],
   "source": [
    "#install module\n",
    "import sys\n",
    "!{sys.executable} -m pip install urllib3\n",
    "!{sys.executable} -m pip install install git+https://github.com/joshcarty/google-searchconsole\n"
   ]
  },
  {
   "cell_type": "code",
   "execution_count": null,
   "metadata": {},
   "outputs": [],
   "source": [
    "#import modules\n",
    "import searchconsole\n",
    "import urllib3"
   ]
  },
  {
   "cell_type": "code",
   "execution_count": null,
   "metadata": {
    "scrolled": true
   },
   "outputs": [],
   "source": [
    "#Make request on search console\n",
    "http = urllib3.PoolManager()\n",
    "account = searchconsole.authenticate(client_config='client_secret.json')\n",
    "#change following line to the domain of your website\n",
    "webproperty = account['https://www.fietsvergoedingcalculator.be/']\n",
    "report = webproperty.query.range('today', days=-30).dimension('page').get()"
   ]
  },
  {
   "cell_type": "code",
   "execution_count": null,
   "metadata": {},
   "outputs": [],
   "source": [
    "report"
   ]
  },
  {
   "cell_type": "code",
   "execution_count": null,
   "metadata": {
    "scrolled": false
   },
   "outputs": [],
   "source": [
    "#List error\n",
    "errorpages = []\n",
    "numbererrors=0\n",
    "badcodes=['400','401','402','403','404','500','501','502','503','504']\n",
    "for i in range(0,len(report.rows)-1):\n",
    "    resp = http.request('GET', report.rows[i][0])\n",
    "    if(str(resp.status) in badcodes):\n",
    "        print(resp.status,report.rows[i][0])\n",
    "if(numbererrors==0):\n",
    "    print(\"Congratulations, 0 errors\")\n",
    "        "
   ]
  },
  {
   "cell_type": "code",
   "execution_count": null,
   "metadata": {},
   "outputs": [],
   "source": []
  },
  {
   "cell_type": "code",
   "execution_count": null,
   "metadata": {},
   "outputs": [],
   "source": []
  }
 ],
 "metadata": {
  "kernelspec": {
   "display_name": "Python 3",
   "language": "python",
   "name": "python3"
  },
  "language_info": {
   "codemirror_mode": {
    "name": "ipython",
    "version": 3
   },
   "file_extension": ".py",
   "mimetype": "text/x-python",
   "name": "python",
   "nbconvert_exporter": "python",
   "pygments_lexer": "ipython3",
   "version": "3.7.4"
  }
 },
 "nbformat": 4,
 "nbformat_minor": 2
}
